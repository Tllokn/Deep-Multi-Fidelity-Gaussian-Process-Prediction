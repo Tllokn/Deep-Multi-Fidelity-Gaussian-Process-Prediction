{
 "cells": [
  {
   "cell_type": "code",
   "execution_count": 67,
   "metadata": {},
   "outputs": [],
   "source": [
    "import torch\n",
    "import torch.nn as nn\n",
    "import os\n",
    "import math"
   ]
  },
  {
   "cell_type": "code",
   "execution_count": 80,
   "metadata": {},
   "outputs": [],
   "source": [
    "class MGP(nn.Module):\n",
    "    def __init__(self, X_L, y_L, X_H, y_H, feature_dim):\n",
    "        super(MGP, self).__init__()\n",
    "        self.D = X_H.shape[1]\n",
    "        self.X_L = X_L\n",
    "        self.y_L = y_L\n",
    "        self.X_H = X_H\n",
    "        self.y_H = y_H\n",
    "        \n",
    "        self.feature_dim = feature_dim\n",
    "        hidden_dim = 2 * feature_dim\n",
    "        self.Linear1 = nn.Linear(self.D, hidden_dim)\n",
    "        self.Linear2 = nn.Linear(hidden_dim, feature_dim)\n",
    "        self.ReLU = nn.Sigmoid()\n",
    "        self.hyp = self.init_params()\n",
    "        print(\"Total number of parameters: %d\" % (self.hyp.shape[0]))\n",
    "        self.jitter = 1e-8\n",
    "        \n",
    "    def feature_get(self, X):\n",
    "        hidden_layer = self.Linear1(X)\n",
    "        ReLU_layer = self.ReLU(hidden_layer)\n",
    "        output_layer = self.Linear2(ReLU_layer)\n",
    "        return output_layer\n",
    "    \n",
    "    def init_params(self):\n",
    "        hyp = torch.log(torch.ones(self.feature_dim + 1))\n",
    "#         hyp = torch.log(torch.ones(self.D + 1))\n",
    "        self.idx_theta_L = torch.arange(hyp.shape[0])\n",
    "\n",
    "        hyp = torch.cat([hyp, torch.log(torch.ones(self.feature_dim + 1))])\n",
    "#         hyp = torch.cat([hyp, torch.log(torch.ones(self.D + 1))])\n",
    "        self.idx_theta_H = torch.arange(self.idx_theta_L[-1] + 1, hyp.shape[0])\n",
    "\n",
    "        rho = torch.tensor([1.0])\n",
    "        logsigma_n = torch.tensor([-4.0, -4.0])\n",
    "        hyp = torch.cat([hyp, rho, logsigma_n])\n",
    "        hyp = torch.nn.Parameter(hyp, requires_grad=True)\n",
    "        return hyp\n",
    "    \n",
    "    def kernel(self, x, xp, hyp):\n",
    "        output_scale = torch.exp(hyp[0])\n",
    "        lengthscales = torch.exp(hyp[1:])\n",
    "        diffs = torch.unsqueeze(x / lengthscales, 1) - \\\n",
    "                torch.unsqueeze(xp / lengthscales, 0)\n",
    "        return output_scale * torch.exp(-0.5 * torch.sum(diffs ** 2, axis=2))\n",
    "    \n",
    "    def likelihood(self, hyp):\n",
    "        X_L = self.feature_get(self.X_L)\n",
    "#         X_L = self.X_L\n",
    "        y_L = self.y_L\n",
    "        X_H = self.feature_get(self.X_H)\n",
    "#         X_H = self.X_H\n",
    "        y_H = self.y_H\n",
    "\n",
    "        y = torch.cat((y_L, y_H), dim=0)\n",
    "\n",
    "        NL = y_L.shape[0]\n",
    "        NH = y_H.shape[0]\n",
    "        N = y.shape[0]\n",
    "\n",
    "        rho = hyp[-3]\n",
    "        logsigma_n_L = hyp[-2]\n",
    "        logsigma_n_H = hyp[-1]\n",
    "        sigma_n_L = torch.exp(logsigma_n_L)\n",
    "        sigma_n_H = torch.exp(logsigma_n_H)\n",
    "\n",
    "        theta_L = hyp[self.idx_theta_L]\n",
    "        theta_H = hyp[self.idx_theta_H]\n",
    "\n",
    "        K_LL = self.kernel(X_L, X_L, theta_L) + torch.eye(NL) * sigma_n_L\n",
    "        K_LH = rho * self.kernel(X_L, X_H, theta_L)\n",
    "        K_HH = rho ** 2 * self.kernel(X_H, X_H, theta_L) + \\\n",
    "               self.kernel(X_H, X_H, theta_H) + torch.eye(NH) * sigma_n_H\n",
    "        K = torch.cat((torch.cat((K_LL, K_LH), dim=1),\n",
    "                          torch.cat((K_LH.T, K_HH), dim=1)), dim=0)\n",
    "        L = torch.cholesky(K + torch.eye(N) * self.jitter)\n",
    "        self.L = L\n",
    "\n",
    "        alpha = torch.solve(torch.solve(y, L).solution, L.T).solution\n",
    "        NLML = 0.5 * torch.matmul(y.T, alpha) + \\\n",
    "               torch.sum(torch.log(torch.diag(L))) + 0.5 * np.log(2. * np.pi) * N\n",
    "        return NLML[0, 0]\n",
    "    \n",
    "    def forward(self):\n",
    "        result = self.likelihood(self.hyp)\n",
    "        return result\n",
    "    \n",
    "    def predict(self, X_star_raw):\n",
    "        X_L = self.feature_get(self.X_L)\n",
    "#         X_L = self.X_L\n",
    "        y_L = self.y_L\n",
    "        X_H = self.feature_get(self.X_H)\n",
    "#         X_H = self.X_H\n",
    "        y_H = self.y_H\n",
    "        L = self.L\n",
    "        X_star = self.feature_get(X_star_raw)\n",
    "#         X_star = X_star_raw\n",
    "\n",
    "        y = torch.cat((y_L, y_H), dim=0)\n",
    "\n",
    "        rho = self.hyp[-3]\n",
    "        theta_L = self.hyp[self.idx_theta_L]\n",
    "        theta_H = self.hyp[self.idx_theta_H]\n",
    "\n",
    "        psi1 = rho * self.kernel(X_star, X_L, theta_L)\n",
    "        psi2 = rho ** 2 * self.kernel(X_star, X_H, theta_L) + \\\n",
    "               self.kernel(X_star, X_H, theta_H)\n",
    "        psi = torch.cat((psi1, psi2), dim=1)\n",
    "\n",
    "        alpha = torch.solve(torch.solve(y, L).solution, L.T).solution\n",
    "        pred_u_star = torch.matmul(psi, alpha.T)\n",
    "\n",
    "        beta = torch.solve(torch.solve(psi.T,L).solution, L.T).solution\n",
    "        var_u_star = rho ** 2 * self.kernel(X_star, X_star, theta_L) + \\\n",
    "                     self.kernel(X_star, X_star, theta_H) - torch.matmul(psi, beta)\n",
    "\n",
    "        return pred_u_star, var_u_star\n",
    "    \n",
    "    def callback(self, params):\n",
    "        print(\"Log likelihood {}\".format(self.likelihood(params)))"
   ]
  },
  {
   "cell_type": "code",
   "execution_count": 81,
   "metadata": {},
   "outputs": [],
   "source": [
    "import autograd.numpy as np\n",
    "import torch\n",
    "import matplotlib.pyplot as plt\n",
    "from pyDOE import lhs\n",
    "from Handwritten_Deep_Multi_Gaussian import Multifidelity_GP\n",
    "from sklearn.metrics import r2_score\n",
    "%matplotlib inline  \n",
    "np.random.seed(1234)"
   ]
  },
  {
   "cell_type": "code",
   "execution_count": 82,
   "metadata": {},
   "outputs": [],
   "source": [
    "def f_H(x):\n",
    "    return (6.0*x-2.0)**2 * np.sin(12.*x-4.0)\n",
    "\n",
    "def f_L(x):\n",
    "    return 0.5*f_H(x) + 10.0*(x-0.5) - 5.0\n",
    "\n",
    "def Normalize(X, X_m, X_s):\n",
    "    return (X-X_m)/(X_s)"
   ]
  },
  {
   "cell_type": "code",
   "execution_count": 83,
   "metadata": {},
   "outputs": [],
   "source": [
    "N_H = 3\n",
    "N_L = 8\n",
    "D = 1\n",
    "lb = 0.0*np.ones(D)\n",
    "ub = 1.0*np.ones(D)\n",
    "noise_L = 0.00\n",
    "noise_H = 0.00\n",
    "\n",
    "Normalize_input_data = 1\n",
    "Normalize_output_data = 1"
   ]
  },
  {
   "cell_type": "code",
   "execution_count": 84,
   "metadata": {},
   "outputs": [
    {
     "data": {
      "text/plain": [
       "Text(0, 0.5, '$f(x)$')"
      ]
     },
     "execution_count": 84,
     "metadata": {},
     "output_type": "execute_result"
    },
    {
     "data": {
      "image/png": "[encoded data removed]",
      "text/plain": [
       "<Figure size 432x288 with 1 Axes>"
      ]
     },
     "metadata": {},
     "output_type": "display_data"
    }
   ],
   "source": [
    "# Training data    \n",
    "X_L = lb + (ub-lb)*lhs(D, N_L)\n",
    "y_L = f_L(X_L) + noise_L*np.random.randn(N_L,D)\n",
    "\n",
    "X_H = lb + (ub-lb)*lhs(D, N_H)\n",
    "y_H = f_H(X_H) + noise_H*np.random.randn(N_H,D)\n",
    "\n",
    "# Test data\n",
    "nn1 = 200\n",
    "X_star = np.linspace(lb, ub, nn1)[:,None]\n",
    "y_star = f_H(X_star)\n",
    "\n",
    " #  Normalize Input Data\n",
    "if Normalize_input_data == 1:\n",
    "    X = np.vstack((X_L,X_H))\n",
    "    X_m = np.mean(X, axis = 0)\n",
    "    X_s = np.std(X, axis = 0)   \n",
    "    X_L = Normalize(X_L, X_m, X_s)\n",
    "    X_H = Normalize(X_H, X_m, X_s)\n",
    "    lb = Normalize(lb, X_m, X_s)\n",
    "    ub = Normalize(ub, X_m, X_s)\n",
    "    X_star = Normalize(X_star, X_m, X_s)\n",
    "\n",
    "#  Normalize Output Data\n",
    "if Normalize_output_data == 1:\n",
    "    y = np.vstack((y_L,y_H))\n",
    "    y_m = np.mean(y, axis = 0)\n",
    "    y_s = np.std(y, axis = 0)   \n",
    "    y_L = Normalize(y_L, y_m, y_s)\n",
    "    y_H = Normalize(y_H, y_m, y_s)\n",
    "    y_star = Normalize(y_star, y_m, y_s)\n",
    "    \n",
    "# Plot the training data\n",
    "plt.figure(facecolor='w')\n",
    "plt.rc('text', usetex=True)\n",
    "plt.rc('font', family='serif', size=16)\n",
    "plt.plot(X_H,y_H,'bo', markersize = 12, alpha = 0.5, label = \"Data\")\n",
    "plt.plot(X_L,y_L,'ms', markersize = 8, alpha = 0.5, label = \"Data\")\n",
    "plt.title(\"Training data\")\n",
    "ax = plt.gca()\n",
    "ax.set_xlim([lb[0], ub[0]])\n",
    "plt.xlabel('$x$')\n",
    "plt.ylabel('$f(x)$')"
   ]
  },
  {
   "cell_type": "code",
   "execution_count": 85,
   "metadata": {},
   "outputs": [],
   "source": [
    "feature_dim = 1\n",
    "\n",
    "X_L=torch.from_numpy(X_L).float()\n",
    "X_H=torch.from_numpy(X_H).float()\n",
    "y_L=torch.from_numpy(y_L).float()\n",
    "y_H=torch.from_numpy(y_H).float()\n"
   ]
  },
  {
   "cell_type": "code",
   "execution_count": 86,
   "metadata": {},
   "outputs": [
    {
     "name": "stdout",
     "output_type": "stream",
     "text": [
      "tensor([[-1.0127],\n",
      "        [ 1.0497],\n",
      "        [-0.0541],\n",
      "        [-1.6465],\n",
      "        [ 0.6049],\n",
      "        [-0.6513],\n",
      "        [ 1.7256],\n",
      "        [ 0.3866]])\n"
     ]
    }
   ],
   "source": [
    "print(X_L)"
   ]
  },
  {
   "cell_type": "code",
   "execution_count": 87,
   "metadata": {},
   "outputs": [
    {
     "name": "stdout",
     "output_type": "stream",
     "text": [
      "Total number of parameters: 7\n"
     ]
    }
   ],
   "source": [
    "model = MGP(X_L, y_L, X_H, y_H,feature_dim)"
   ]
  },
  {
   "cell_type": "code",
   "execution_count": 88,
   "metadata": {},
   "outputs": [],
   "source": [
    "optimizer = torch.optim.Adam(model.parameters(), lr=1e-2)\n",
    "# model.hyp\n",
    "# for parameters in model.parameters():\n",
    "#     print(parameters)"
   ]
  },
  {
   "cell_type": "code",
   "execution_count": 89,
   "metadata": {
    "scrolled": false
   },
   "outputs": [
    {
     "name": "stdout",
     "output_type": "stream",
     "text": [
      "epoch: 0  loss: 252.182861328125\n",
      "epoch: 100  loss: 34.57688903808594\n",
      "epoch: 200  loss: 10.791662216186523\n",
      "epoch: 300  loss: 9.900952339172363\n",
      "epoch: 400  loss: 9.432966232299805\n",
      "epoch: 500  loss: 9.1715087890625\n",
      "epoch: 600  loss: 9.006244659423828\n",
      "epoch: 700  loss: 8.877553939819336\n",
      "epoch: 800  loss: 8.760381698608398\n",
      "epoch: 900  loss: 8.643878936767578\n",
      "epoch: 1000  loss: 8.523284912109375\n",
      "epoch: 1100  loss: 8.396501541137695\n",
      "epoch: 1200  loss: 8.262460708618164\n",
      "epoch: 1300  loss: 8.120140075683594\n",
      "epoch: 1400  loss: 7.967472076416016\n",
      "epoch: 1500  loss: 7.799771308898926\n",
      "epoch: 1600  loss: 7.606085300445557\n",
      "epoch: 1700  loss: 7.364133358001709\n",
      "epoch: 1800  loss: 7.068902969360352\n",
      "epoch: 1900  loss: 6.841186046600342\n",
      "epoch: 2000  loss: 6.6942644119262695\n",
      "epoch: 2100  loss: 6.5694451332092285\n",
      "epoch: 2200  loss: 6.454970359802246\n",
      "epoch: 2300  loss: 6.348260402679443\n",
      "epoch: 2400  loss: 6.248693466186523\n",
      "epoch: 2500  loss: 6.156641960144043\n",
      "epoch: 2600  loss: 6.072801113128662\n",
      "epoch: 2700  loss: 5.998018741607666\n",
      "epoch: 2800  loss: 5.932649612426758\n",
      "epoch: 2900  loss: 5.87678337097168\n",
      "epoch: 3000  loss: 5.829953670501709\n",
      "epoch: 3100  loss: 5.791066646575928\n",
      "epoch: 3200  loss: 5.758551597595215\n",
      "epoch: 3300  loss: 5.730326175689697\n",
      "epoch: 3400  loss: 5.703861236572266\n",
      "epoch: 3500  loss: 5.676833152770996\n",
      "epoch: 3600  loss: 5.647320747375488\n",
      "epoch: 3700  loss: 5.614973068237305\n",
      "epoch: 3800  loss: 5.582565784454346\n",
      "epoch: 3900  loss: 5.555194854736328\n",
      "epoch: 4000  loss: 5.536388397216797\n",
      "epoch: 4100  loss: 5.525267124176025\n",
      "epoch: 4200  loss: 5.518331527709961\n",
      "epoch: 4300  loss: 5.513132095336914\n",
      "epoch: 4400  loss: 5.508856296539307\n",
      "epoch: 4500  loss: 5.504729747772217\n",
      "epoch: 4600  loss: 5.500423908233643\n",
      "epoch: 4700  loss: 5.496033668518066\n",
      "epoch: 4800  loss: 5.491181373596191\n",
      "epoch: 4900  loss: 5.485638618469238\n"
     ]
    }
   ],
   "source": [
    "epoches = 5000\n",
    "\n",
    "for e in range(epoches):\n",
    "    optimizer.zero_grad()\n",
    "    loss = model()\n",
    "    if (e)%100==0:\n",
    "        print(f'epoch: {e}  loss: {loss.item()}')\n",
    "    loss.backward()\n",
    "    optimizer.step()"
   ]
  },
  {
   "cell_type": "code",
   "execution_count": 90,
   "metadata": {},
   "outputs": [],
   "source": [
    "X_star=torch.from_numpy(X_star).float()"
   ]
  },
  {
   "cell_type": "code",
   "execution_count": 91,
   "metadata": {},
   "outputs": [
    {
     "ename": "RuntimeError",
     "evalue": "Incompatible matrix sizes for solve: each A matrix is 11 by 11 but each b matrix is 2 by 200",
     "output_type": "error",
     "traceback": [
      "\u001b[1;31m---------------------------------------------------------------------------\u001b[0m",
      "\u001b[1;31mRuntimeError\u001b[0m                              Traceback (most recent call last)",
      "\u001b[1;32m<ipython-input-91-cb6b287b0640>\u001b[0m in \u001b[0;36m<module>\u001b[1;34m\u001b[0m\n\u001b[0;32m      1\u001b[0m \u001b[1;31m# Predict\u001b[0m\u001b[1;33m\u001b[0m\u001b[1;33m\u001b[0m\u001b[1;33m\u001b[0m\u001b[0m\n\u001b[1;32m----> 2\u001b[1;33m \u001b[0my_pred\u001b[0m\u001b[1;33m,\u001b[0m \u001b[0my_var\u001b[0m \u001b[1;33m=\u001b[0m \u001b[0mmodel\u001b[0m\u001b[1;33m.\u001b[0m\u001b[0mpredict\u001b[0m\u001b[1;33m(\u001b[0m\u001b[0mX_star\u001b[0m\u001b[1;33m)\u001b[0m\u001b[1;33m\u001b[0m\u001b[1;33m\u001b[0m\u001b[0m\n\u001b[0m\u001b[0;32m      3\u001b[0m \u001b[0my_pred\u001b[0m\u001b[1;33m,\u001b[0m \u001b[0my_var\u001b[0m \u001b[1;33m=\u001b[0m \u001b[0my_pred\u001b[0m\u001b[1;33m.\u001b[0m\u001b[0mdetach\u001b[0m\u001b[1;33m(\u001b[0m\u001b[1;33m)\u001b[0m\u001b[1;33m.\u001b[0m\u001b[0mnumpy\u001b[0m\u001b[1;33m(\u001b[0m\u001b[1;33m)\u001b[0m\u001b[1;33m,\u001b[0m \u001b[0my_var\u001b[0m\u001b[1;33m.\u001b[0m\u001b[0mdetach\u001b[0m\u001b[1;33m(\u001b[0m\u001b[1;33m)\u001b[0m\u001b[1;33m.\u001b[0m\u001b[0mnumpy\u001b[0m\u001b[1;33m(\u001b[0m\u001b[1;33m)\u001b[0m\u001b[1;33m\u001b[0m\u001b[1;33m\u001b[0m\u001b[0m\n\u001b[0;32m      4\u001b[0m \u001b[0my_var\u001b[0m \u001b[1;33m=\u001b[0m \u001b[0mnp\u001b[0m\u001b[1;33m.\u001b[0m\u001b[0mabs\u001b[0m\u001b[1;33m(\u001b[0m\u001b[0mnp\u001b[0m\u001b[1;33m.\u001b[0m\u001b[0mdiag\u001b[0m\u001b[1;33m(\u001b[0m\u001b[0my_var\u001b[0m\u001b[1;33m)\u001b[0m\u001b[1;33m)\u001b[0m\u001b[1;33m\u001b[0m\u001b[1;33m\u001b[0m\u001b[0m\n\u001b[0;32m      5\u001b[0m \u001b[1;33m\u001b[0m\u001b[0m\n",
      "\u001b[1;32m<ipython-input-80-c2b6d75c51c6>\u001b[0m in \u001b[0;36mpredict\u001b[1;34m(self, X_star_raw)\u001b[0m\n\u001b[0;32m    111\u001b[0m         \u001b[0mpred_u_star\u001b[0m \u001b[1;33m=\u001b[0m \u001b[0mtorch\u001b[0m\u001b[1;33m.\u001b[0m\u001b[0mmatmul\u001b[0m\u001b[1;33m(\u001b[0m\u001b[0mpsi\u001b[0m\u001b[1;33m,\u001b[0m \u001b[0malpha\u001b[0m\u001b[1;33m.\u001b[0m\u001b[0mT\u001b[0m\u001b[1;33m)\u001b[0m\u001b[1;33m\u001b[0m\u001b[1;33m\u001b[0m\u001b[0m\n\u001b[0;32m    112\u001b[0m \u001b[1;33m\u001b[0m\u001b[0m\n\u001b[1;32m--> 113\u001b[1;33m         \u001b[0mbeta\u001b[0m \u001b[1;33m=\u001b[0m \u001b[0mtorch\u001b[0m\u001b[1;33m.\u001b[0m\u001b[0msolve\u001b[0m\u001b[1;33m(\u001b[0m\u001b[0mtorch\u001b[0m\u001b[1;33m.\u001b[0m\u001b[0msolve\u001b[0m\u001b[1;33m(\u001b[0m\u001b[0mpsi\u001b[0m\u001b[1;33m.\u001b[0m\u001b[0mT\u001b[0m\u001b[1;33m,\u001b[0m\u001b[0mL\u001b[0m\u001b[1;33m)\u001b[0m\u001b[1;33m.\u001b[0m\u001b[0msolution\u001b[0m\u001b[1;33m,\u001b[0m \u001b[0mL\u001b[0m\u001b[1;33m.\u001b[0m\u001b[0mT\u001b[0m\u001b[1;33m)\u001b[0m\u001b[1;33m.\u001b[0m\u001b[0msolution\u001b[0m\u001b[1;33m\u001b[0m\u001b[1;33m\u001b[0m\u001b[0m\n\u001b[0m\u001b[0;32m    114\u001b[0m         \u001b[0mvar_u_star\u001b[0m \u001b[1;33m=\u001b[0m \u001b[0mrho\u001b[0m \u001b[1;33m**\u001b[0m \u001b[1;36m2\u001b[0m \u001b[1;33m*\u001b[0m \u001b[0mself\u001b[0m\u001b[1;33m.\u001b[0m\u001b[0mkernel\u001b[0m\u001b[1;33m(\u001b[0m\u001b[0mX_star\u001b[0m\u001b[1;33m,\u001b[0m \u001b[0mX_star\u001b[0m\u001b[1;33m,\u001b[0m \u001b[0mtheta_L\u001b[0m\u001b[1;33m)\u001b[0m \u001b[1;33m+\u001b[0m\u001b[0;31m \u001b[0m\u001b[0;31m\\\u001b[0m\u001b[1;33m\u001b[0m\u001b[1;33m\u001b[0m\u001b[0m\n\u001b[0;32m    115\u001b[0m                      \u001b[0mself\u001b[0m\u001b[1;33m.\u001b[0m\u001b[0mkernel\u001b[0m\u001b[1;33m(\u001b[0m\u001b[0mX_star\u001b[0m\u001b[1;33m,\u001b[0m \u001b[0mX_star\u001b[0m\u001b[1;33m,\u001b[0m \u001b[0mtheta_H\u001b[0m\u001b[1;33m)\u001b[0m \u001b[1;33m-\u001b[0m \u001b[0mtorch\u001b[0m\u001b[1;33m.\u001b[0m\u001b[0mmatmul\u001b[0m\u001b[1;33m(\u001b[0m\u001b[0mpsi\u001b[0m\u001b[1;33m,\u001b[0m \u001b[0mbeta\u001b[0m\u001b[1;33m)\u001b[0m\u001b[1;33m\u001b[0m\u001b[1;33m\u001b[0m\u001b[0m\n",
      "\u001b[1;31mRuntimeError\u001b[0m: Incompatible matrix sizes for solve: each A matrix is 11 by 11 but each b matrix is 2 by 200"
     ]
    }
   ],
   "source": [
    "# Predict\n",
    "y_pred, y_var = model.predict(X_star)\n",
    "y_pred, y_var = y_pred.detach().numpy(), y_var.detach().numpy()\n",
    "y_var = np.abs(np.diag(y_var))\n",
    "\n",
    "# Check accuracy                       \n",
    "error = np.linalg.norm(y_pred-y_star,2)/np.linalg.norm(y_star,2)\n",
    "print(\"Relative L2 error u: %e\" % (error))\n",
    "\n",
    "# Plot\n",
    "plt.figure(1, figsize=(10, 8), dpi=80, facecolor='w', edgecolor='k')\n",
    "plt.rc('text', usetex=True)\n",
    "plt.rc('font', family='serif', size=16)\n",
    "plt.plot(X_star, y_star, 'b-', label = \"Exact\", linewidth=2)\n",
    "plt.plot(X_star, y_pred, 'r--', label = \"Prediction\", linewidth=2)\n",
    "lower = y_pred - 2.0*np.sqrt(y_var[:,None])\n",
    "upper = y_pred + 2.0*np.sqrt(y_var[:,None])\n",
    "plt.fill_between(X_star.flatten(), lower.flatten(), upper.flatten(), \n",
    "                 facecolor='orange', alpha=0.5, label=\"Two std band\")\n",
    "plt.plot(X_H,y_H,'bo', markersize = 12, label = \"High-fidelity data\")\n",
    "plt.plot(X_L,y_L,'ms', markersize = 8, label = \"Low-fidelity data\")\n",
    "plt.legend(frameon=False,loc='upper left')\n",
    "ax = plt.gca()\n",
    "ax.set_xlim([lb[0], ub[0]])\n",
    "plt.xlabel('$x$')\n",
    "plt.ylabel('$f(x)$')"
   ]
  },
  {
   "cell_type": "code",
   "execution_count": 12,
   "metadata": {},
   "outputs": [],
   "source": [
    "# model.hyp\n",
    "# for parameters in model.parameters():\n",
    "#     print(parameters)"
   ]
  },
  {
   "cell_type": "code",
   "execution_count": 13,
   "metadata": {},
   "outputs": [],
   "source": [
    "y_pred, y_var = model.predict(X_star)\n",
    "y_pred, y_var = y_pred.detach().numpy(), y_var.detach().numpy()"
   ]
  },
  {
   "cell_type": "code",
   "execution_count": 14,
   "metadata": {},
   "outputs": [
    {
     "name": "stdout",
     "output_type": "stream",
     "text": [
      "Relative L2 error u: 6.855246e-02\n",
      "r2 socre: 0.15881388698211096\n",
      "[[31.1779]\n",
      " [29.1824]\n",
      " [26.4095]\n",
      " [26.9644]\n",
      " [30.09  ]\n",
      " [26.837 ]\n",
      " [25.28  ]\n",
      " [31.4606]\n",
      " [30.1555]] [[29.56369 ]\n",
      " [30.170456]\n",
      " [27.194271]\n",
      " [30.035992]\n",
      " [26.118118]\n",
      " [26.552925]\n",
      " [24.604034]\n",
      " [29.471863]\n",
      " [29.190376]]\n",
      "[0.01564633 0.01910804 0.02554493 0.00883754 0.0160188  0.02253916\n",
      " 0.03544086 0.01349343 0.01754244]\n"
     ]
    },
    {
     "data": {
      "image/png": "[encoded data removed]",
      "text/plain": [
       "<Figure size 800x640 with 1 Axes>"
      ]
     },
     "metadata": {},
     "output_type": "display_data"
    }
   ],
   "source": [
    "file_write_obj = open(\"5.without-norm-2000-epoch-feature48-lr5e-4.txt\", 'w')\n",
    "# for var in mylist:\n",
    "#     file_write_obj.writelines(var)\n",
    "#     file_write_obj.write('\\n')\n",
    "\n",
    "\n",
    "# Check accuracy                       \n",
    "error = np.linalg.norm(y_pred - y_star,2) / np.linalg.norm(y_star,2)\n",
    "print(\"Relative L2 error u: %e\" % (error))\n",
    "\n",
    "file_write_obj.write('Relative L2 error')\n",
    "file_write_obj.write(str(error))\n",
    "file_write_obj.write('\\n')\n",
    "\n",
    "index=[1,2,3,4,5,6,7,8,9]\n",
    "y_pred=np.array(y_pred)\n",
    "y_star=np.array(y_star)\n",
    "\n",
    "print(\"r2 socre:\",r2_score(y_star,y_pred))\n",
    "\n",
    "file_write_obj.write('r2 socre')\n",
    "file_write_obj.writelines(str(r2_score(y_star,y_pred)))\n",
    "file_write_obj.write('\\n')\n",
    "\n",
    "print(y_star, y_pred)\n",
    "file_write_obj.write('Exact')\n",
    "file_write_obj.write(str(y_star))\n",
    "file_write_obj.write('\\n')\n",
    "\n",
    "file_write_obj.write('Predict')\n",
    "file_write_obj.write(str(y_pred))\n",
    "file_write_obj.write('\\n')\n",
    "\n",
    "y_var_new=abs(y_var.mean(axis=1))\n",
    "print(y_var_new)\n",
    "\n",
    "file_write_obj.write('std')\n",
    "file_write_obj.write(str(y_var_new))\n",
    "file_write_obj.write('\\n')\n",
    "\n",
    "# Plot\n",
    "plt.figure(1, figsize=(10, 8), dpi=80, facecolor='w', edgecolor='k')\n",
    "# plt.rc('text', usetex=True)\n",
    "# plt.rc('font', family='serif', size=12)\n",
    "\n",
    "\n",
    "# plt.plot(X_star, y_star, 'b-', label = \"Exact\", linewidth=2)\n",
    "# plt.plot(X_star, y_pred, 'r--', label = \"Prediction\", linewidth=2)\n",
    "plt.plot(index, y_star, 'b-', label = \"Exact\", linewidth=2)\n",
    "plt.plot(index, y_pred, 'r--', label = \"Prediction\", linewidth=2)\n",
    "\n",
    "\n",
    "lower = np.array(y_pred - 2.0*np.sqrt(y_var_new[:,None]))\n",
    "upper = np.array(y_pred + 2.0*np.sqrt(y_var_new[:,None]))\n",
    "\n",
    "                     \n",
    "index=np.array(index)\n",
    "plt.fill_between(index.flatten(), lower.flatten(), upper.flatten(), \n",
    "                 facecolor='orange', alpha=0.3, label=\"Two std band\")\n",
    "# plt.plot(X_H,y_H,'bo', markersize = 1, label = \"High-fidelity data\")\n",
    "# plt.plot(X_L,y_L,'ms', markersize = 1, label = \"Low-fidelity data\")\n",
    "plt.legend(frameon=False,loc='upper left')\n",
    "ax = plt.gca()\n",
    "plt.xlabel('$x$')\n",
    "plt.ylabel('$f(x)$')\n",
    "\n",
    "plt.savefig(\"5.without-norm-2000-epoch-feature48-lr5e-4.png\")\n",
    "file_write_obj.close()\n"
   ]
  },
  {
   "cell_type": "code",
   "execution_count": null,
   "metadata": {},
   "outputs": [],
   "source": []
  }
 ],
 "metadata": {
  "kernelspec": {
   "display_name": "Python 3",
   "language": "python",
   "name": "python3"
  },
  "language_info": {
   "codemirror_mode": {
    "name": "ipython",
    "version": 3
   },
   "file_extension": ".py",
   "mimetype": "text/x-python",
   "name": "python",
   "nbconvert_exporter": "python",
   "pygments_lexer": "ipython3",
   "version": "3.7.4"
  }
 },
 "nbformat": 4,
 "nbformat_minor": 4
}
