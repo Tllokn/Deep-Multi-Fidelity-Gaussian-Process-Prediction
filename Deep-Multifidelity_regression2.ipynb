{
 "cells": [
  {
   "cell_type": "code",
   "execution_count": 1,
   "metadata": {},
   "outputs": [],
   "source": [
    "import torch\n",
    "import torch.nn as nn"
   ]
  },
  {
   "cell_type": "code",
   "execution_count": 2,
   "metadata": {},
   "outputs": [
    {
     "name": "stderr",
     "output_type": "stream",
     "text": [
      "c:\\users\\tllok.n\\pycharmprojects\\gptour\\venv\\lib\\site-packages\\torch\\nn\\_reduction.py:44: UserWarning: size_average and reduce args will be deprecated, please use reduction='mean' instead.\n",
      "  warnings.warn(warning.format(ret))\n"
     ]
    }
   ],
   "source": [
    "loss_fn = torch.nn.MSELoss(reduce=True, size_average=True)"
   ]
  },
  {
   "cell_type": "code",
   "execution_count": 3,
   "metadata": {},
   "outputs": [],
   "source": [
    "class MGP(nn.Module):\n",
    "    def __init__(self, X_L, y_L, X_H, y_H, feature_dim):\n",
    "        super(MGP, self).__init__()\n",
    "        self.D = X_H.shape[1]\n",
    "        self.X_L = X_L\n",
    "        self.y_L = y_L\n",
    "        self.X_H = X_H\n",
    "        self.y_H = y_H\n",
    "        \n",
    "        self.feature_dim = feature_dim\n",
    "        hidden_dim = 10 * feature_dim\n",
    "        self.Linear1 = nn.Linear(self.D, hidden_dim)\n",
    "        self.Linear2 = nn.Linear(hidden_dim, feature_dim)\n",
    "        self.ReLU = nn.ReLU()\n",
    "        self.hyp = self.init_params()\n",
    "        print(\"Total number of parameters: %d\" % (self.hyp.shape[0]))\n",
    "        self.jitter = 1e-8\n",
    "        \n",
    "    def feature_get(self, X):\n",
    "        hidden_layer = self.Linear1(X)\n",
    "        ReLU_layer = self.ReLU(hidden_layer)\n",
    "        output_layer = self.Linear2(ReLU_layer)\n",
    "        return output_layer\n",
    "    \n",
    "    def init_params(self):\n",
    "        hyp = torch.log(torch.ones(self.feature_dim + 1))\n",
    "        self.idx_theta_L = torch.arange(hyp.shape[0])\n",
    "\n",
    "        hyp = torch.cat([hyp, torch.log(torch.ones(self.feature_dim + 1))])\n",
    "        self.idx_theta_H = torch.arange(self.idx_theta_L[-1] + 1, hyp.shape[0])\n",
    "\n",
    "        rho = torch.tensor([1.0])\n",
    "        logsigma_n = torch.tensor([-4.0, -4.0])\n",
    "        hyp = torch.cat([hyp, rho, logsigma_n])\n",
    "        return hyp\n",
    "    \n",
    "    def kernel(self, x, xp, hyp):\n",
    "        output_scale = torch.exp(hyp[0])\n",
    "        lengthscales = torch.exp(hyp[1:])\n",
    "        diffs = torch.unsqueeze(x / lengthscales, 1) - \\\n",
    "                torch.unsqueeze(xp / lengthscales, 0)\n",
    "        return output_scale * torch.exp(-0.5 * torch.sum(diffs ** 2, axis=2))\n",
    "    \n",
    "    def likelihood(self, hyp):\n",
    "        X_L = self.feature_get(self.X_L)\n",
    "        y_L = self.y_L\n",
    "        X_H = self.feature_get(self.X_H)\n",
    "        y_H = self.y_H\n",
    "\n",
    "        y = torch.cat((y_L, y_H), dim=0)\n",
    "\n",
    "        NL = y_L.shape[0]\n",
    "        NH = y_H.shape[0]\n",
    "        N = y.shape[0]\n",
    "\n",
    "        rho = hyp[-3]\n",
    "        logsigma_n_L = hyp[-2]\n",
    "        logsigma_n_H = hyp[-1]\n",
    "        sigma_n_L = torch.exp(logsigma_n_L)\n",
    "        sigma_n_H = torch.exp(logsigma_n_H)\n",
    "\n",
    "        theta_L = hyp[self.idx_theta_L]\n",
    "        theta_H = hyp[self.idx_theta_H]\n",
    "\n",
    "        K_LL = self.kernel(X_L, X_L, theta_L) + torch.eye(NL) * sigma_n_L\n",
    "        K_LH = rho * self.kernel(X_L, X_H, theta_L)\n",
    "        K_HH = rho ** 2 * self.kernel(X_H, X_H, theta_L) + \\\n",
    "               self.kernel(X_H, X_H, theta_H) + torch.eye(NH) * sigma_n_H\n",
    "        K = torch.cat((torch.cat((K_LL, K_LH), dim=1),\n",
    "                          torch.cat((K_LH.T, K_HH), dim=1)), dim=0)\n",
    "        L = torch.cholesky(K + torch.eye(N) * self.jitter)\n",
    "        self.L = L\n",
    "\n",
    "        alpha = torch.solve(torch.solve(y, L).solution, L.T).solution\n",
    "        NLML = 0.5 * torch.matmul(y.T, alpha) + \\\n",
    "               torch.sum(torch.log(torch.diag(L))) + 0.5 * np.log(2. * np.pi) * N\n",
    "        return NLML[0, 0]\n",
    "    \n",
    "    def forward(self):\n",
    "        result = self.likelihood(self.hyp)\n",
    "        return result\n",
    "    \n",
    "    def predict(self, X_star_raw):\n",
    "        X_L = self.feature_get(self.X_L)\n",
    "        y_L = self.y_L\n",
    "        X_H = self.feature_get(self.X_H)\n",
    "        y_H = self.y_H\n",
    "        L = self.L\n",
    "        X_star=self.feature_get(X_star_raw)\n",
    "\n",
    "        y = torch.cat((y_L, y_H), dim=0)\n",
    "\n",
    "        rho = self.hyp[-3]\n",
    "        theta_L = self.hyp[self.idx_theta_L]\n",
    "        theta_H = self.hyp[self.idx_theta_H]\n",
    "\n",
    "        psi1 = rho * self.kernel(X_star, X_L, theta_L)\n",
    "        psi2 = rho ** 2 * self.kernel(X_star, X_H, theta_L) + \\\n",
    "               self.kernel(X_star, X_H, theta_H)\n",
    "        psi = torch.cat((psi1, psi2), dim=1)\n",
    "\n",
    "        alpha = torch.solve(torch.solve(y, L).solution, L.T).solution\n",
    "        pred_u_star = torch.matmul(psi, alpha)\n",
    "\n",
    "        beta = torch.solve(torch.solve(psi.T,L).solution, L.T).solution\n",
    "        var_u_star = rho ** 2 * self.kernel(X_star, X_star, theta_L) + \\\n",
    "                     self.kernel(X_star, X_star, theta_H) - torch.matmul(psi, beta)\n",
    "\n",
    "        return pred_u_star, var_u_star\n",
    "    \n",
    "    def callback(self, params):\n",
    "        print(\"Log likelihood {}\".format(self.likelihood(params)))\n"
   ]
  },
  {
   "cell_type": "code",
   "execution_count": 4,
   "metadata": {},
   "outputs": [],
   "source": [
    "import autograd.numpy as np\n",
    "import torch\n",
    "import matplotlib.pyplot as plt\n",
    "from pyDOE import lhs\n",
    "from Handwritten_Deep_Multi_Gaussian import Multifidelity_GP\n",
    "from sklearn.metrics import r2_score\n",
    "%matplotlib inline  \n",
    "np.random.seed(1234)"
   ]
  },
  {
   "cell_type": "code",
   "execution_count": 5,
   "metadata": {},
   "outputs": [],
   "source": [
    "def Normalize(X, X_m, X_s):\n",
    "    return (X-X_m)/(X_s)"
   ]
  },
  {
   "cell_type": "code",
   "execution_count": 6,
   "metadata": {},
   "outputs": [],
   "source": [
    "N_H = 3\n",
    "N_L = 8\n",
    "D = 1\n",
    "lb = 0.0*np.ones(D)\n",
    "ub = 1.0*np.ones(D)\n",
    "noise_L = 0.00\n",
    "noise_H = 0.00\n",
    "\n",
    "Normalize_input_data = 1\n",
    "Normalize_output_data = 1"
   ]
  },
  {
   "cell_type": "code",
   "execution_count": 7,
   "metadata": {},
   "outputs": [],
   "source": [
    "# Training data    \n",
    "X_L = np.loadtxt('./dataset/x_train_low.txt').reshape(-1,32)\n",
    "y_L = (np.loadtxt('./dataset/y_train_low.txt')*1e4).reshape(-1,1)\n",
    "\n",
    "X_H = np.loadtxt('./dataset/x_train_high.txt').reshape(-1,32)\n",
    "y_H = np.loadtxt('./dataset/y_train_high.txt').reshape(-1,1)\n",
    "\n",
    "# Test data\n",
    "X_star = np.loadtxt('./dataset/x_test_high.txt').reshape(-1,32)\n",
    "y_star = np.loadtxt('./dataset/y_test_high.txt').reshape(-1,1)\n",
    "\n",
    " #  Normalize Input Data\n",
    "if Normalize_input_data == 1:\n",
    "    X = np.vstack((X_L,X_H))\n",
    "#     X=X.T\n",
    "    X_m = np.mean(X, axis = 0)\n",
    "    X_s = np.std(X, axis = 0)   \n",
    "    X_L = Normalize(X_L, X_m, X_s)\n",
    "    X_H = Normalize(X_H, X_m, X_s)\n",
    "    lb = Normalize(lb, X_m, X_s)\n",
    "    ub = Normalize(ub, X_m, X_s)\n",
    "    X_star = Normalize(X_star, X_m, X_s)\n",
    "\n",
    "#  Normalize Output Data\n",
    "if Normalize_output_data == 1:\n",
    "    y = np.vstack((y_L,y_H))\n",
    "#     y=y.T\n",
    "    y_m = np.mean(y, axis = 0)\n",
    "    y_s = np.std(y, axis = 0)   \n",
    "    y_L = Normalize(y_L, y_m, y_s)\n",
    "    y_H = Normalize(y_H, y_m, y_s)\n",
    "    y_star = Normalize(y_star, y_m, y_s)\n",
    "    \n",
    "\n",
    "# # Plot the training data\n",
    "# plt.figure(facecolor='w')\n",
    "# plt.rc('text', usetex=True)\n",
    "# plt.rc('font', family='serif', size=16)\n",
    "# plt.plot(X_H,y_H,'bo', markersize = 12, alpha = 0.5, label = \"Data\")\n",
    "# plt.plot(X_L,y_L,'ms', markersize = 8, alpha = 0.5, label = \"Data\")\n",
    "# plt.title(\"Training data\")\n",
    "# ax = plt.gca()\n",
    "# # ax.set_xlim([lb[0], ub[0]])\n",
    "# plt.xlabel('$x$')\n",
    "# plt.ylabel('$f(x)$')"
   ]
  },
  {
   "cell_type": "code",
   "execution_count": 8,
   "metadata": {},
   "outputs": [],
   "source": [
    "X_L=X_L.reshape(-1,32)\n",
    "X_H=X_H.reshape(-1,32)\n",
    "y_L=y_L.reshape(-1,1)\n",
    "y_H=y_H.reshape(-1,1)\n",
    "feature_dim=5\n",
    "\n",
    "X_L=torch.from_numpy(X_L).float()\n",
    "X_H=torch.from_numpy(X_H).float()\n",
    "y_L=torch.from_numpy(y_L).float()\n",
    "y_H=torch.from_numpy(y_H).float()"
   ]
  },
  {
   "cell_type": "code",
   "execution_count": 9,
   "metadata": {},
   "outputs": [
    {
     "name": "stdout",
     "output_type": "stream",
     "text": [
      "Total number of parameters: 15\n"
     ]
    }
   ],
   "source": [
    "model = MGP(X_L, y_L, X_H, y_H,feature_dim)"
   ]
  },
  {
   "cell_type": "code",
   "execution_count": 10,
   "metadata": {},
   "outputs": [],
   "source": [
    "optimizer = torch.optim.Adam(model.parameters(), lr=0.05)"
   ]
  },
  {
   "cell_type": "code",
   "execution_count": 11,
   "metadata": {
    "scrolled": false
   },
   "outputs": [
    {
     "name": "stdout",
     "output_type": "stream",
     "text": [
      "epoch: 0  loss: 21360.337890625\n",
      "epoch: 100  loss: -307.46630859375\n",
      "epoch: 200  loss: -799.238525390625\n",
      "epoch: 300  loss: -947.09765625\n",
      "epoch: 400  loss: -1007.833984375\n",
      "epoch: 500  loss: -1115.157470703125\n",
      "epoch: 600  loss: -937.218505859375\n",
      "epoch: 700  loss: -1161.576171875\n",
      "epoch: 800  loss: -844.2825927734375\n",
      "epoch: 900  loss: -1104.022705078125\n",
      "epoch: 1000  loss: -1280.064453125\n",
      "epoch: 1100  loss: -1291.9423828125\n",
      "epoch: 1200  loss: -1238.93408203125\n",
      "epoch: 1300  loss: -1327.09619140625\n",
      "epoch: 1400  loss: -1264.16796875\n",
      "epoch: 1500  loss: -1203.63037109375\n",
      "epoch: 1600  loss: -1331.627685546875\n",
      "epoch: 1700  loss: -1286.25146484375\n",
      "epoch: 1800  loss: -1323.542724609375\n",
      "epoch: 1900  loss: -1294.369140625\n"
     ]
    }
   ],
   "source": [
    "epoches = 2000\n",
    "\n",
    "for e in range(epoches):\n",
    "    optimizer.zero_grad()\n",
    "    loss = model()\n",
    "    if e%100==0:\n",
    "        print(f'epoch: {e}  loss: {loss.item()}')\n",
    "    loss.backward()\n",
    "    optimizer.step()"
   ]
  },
  {
   "cell_type": "code",
   "execution_count": 12,
   "metadata": {},
   "outputs": [],
   "source": [
    "X_star=torch.from_numpy(np.array(X_star).reshape(-1,32)).float()"
   ]
  },
  {
   "cell_type": "code",
   "execution_count": 13,
   "metadata": {},
   "outputs": [],
   "source": [
    "y_pred, y_var = model.predict(X_star)\n",
    "y_pred, y_var = y_pred.detach().numpy(), y_var.detach().numpy()"
   ]
  },
  {
   "cell_type": "code",
   "execution_count": 14,
   "metadata": {},
   "outputs": [
    {
     "name": "stdout",
     "output_type": "stream",
     "text": [
      "Relative L2 error u: 9.183574e+00\n",
      "r2 socre: -1041.0328234056594\n"
     ]
    },
    {
     "name": "stderr",
     "output_type": "stream",
     "text": [
      "c:\\users\\tllok.n\\pycharmprojects\\gptour\\venv\\lib\\site-packages\\autograd\\tracer.py:48: RuntimeWarning: invalid value encountered in sqrt\n",
      "  return f_raw(*args, **kwargs)\n"
     ]
    },
    {
     "ename": "ValueError",
     "evalue": "operands could not be broadcast together with shapes (9,) (729,) ",
     "output_type": "error",
     "traceback": [
      "\u001b[1;31m---------------------------------------------------------------------------\u001b[0m",
      "\u001b[1;31mValueError\u001b[0m                                Traceback (most recent call last)",
      "\u001b[1;32m<ipython-input-14-b14fd144a717>\u001b[0m in \u001b[0;36m<module>\u001b[1;34m\u001b[0m\n\u001b[0;32m     34\u001b[0m \u001b[0mindex\u001b[0m\u001b[1;33m=\u001b[0m\u001b[0mnp\u001b[0m\u001b[1;33m.\u001b[0m\u001b[0marray\u001b[0m\u001b[1;33m(\u001b[0m\u001b[0mindex\u001b[0m\u001b[1;33m)\u001b[0m\u001b[1;33m\u001b[0m\u001b[1;33m\u001b[0m\u001b[0m\n\u001b[0;32m     35\u001b[0m plt.fill_between(index.flatten(), lower.flatten(), upper.flatten(), \n\u001b[1;32m---> 36\u001b[1;33m                  facecolor='orange', alpha=0.3, label=\"Two std band\")\n\u001b[0m\u001b[0;32m     37\u001b[0m \u001b[1;31m# plt.plot(X_H,y_H,'bo', markersize = 1, label = \"High-fidelity data\")\u001b[0m\u001b[1;33m\u001b[0m\u001b[1;33m\u001b[0m\u001b[1;33m\u001b[0m\u001b[0m\n\u001b[0;32m     38\u001b[0m \u001b[1;31m# plt.plot(X_L,y_L,'ms', markersize = 1, label = \"Low-fidelity data\")\u001b[0m\u001b[1;33m\u001b[0m\u001b[1;33m\u001b[0m\u001b[1;33m\u001b[0m\u001b[0m\n",
      "\u001b[1;32mc:\\users\\tllok.n\\pycharmprojects\\gptour\\venv\\lib\\site-packages\\matplotlib\\pyplot.py\u001b[0m in \u001b[0;36mfill_between\u001b[1;34m(x, y1, y2, where, interpolate, step, data, **kwargs)\u001b[0m\n\u001b[0;32m   2621\u001b[0m     return gca().fill_between(\n\u001b[0;32m   2622\u001b[0m         \u001b[0mx\u001b[0m\u001b[1;33m,\u001b[0m \u001b[0my1\u001b[0m\u001b[1;33m,\u001b[0m \u001b[0my2\u001b[0m\u001b[1;33m=\u001b[0m\u001b[0my2\u001b[0m\u001b[1;33m,\u001b[0m \u001b[0mwhere\u001b[0m\u001b[1;33m=\u001b[0m\u001b[0mwhere\u001b[0m\u001b[1;33m,\u001b[0m \u001b[0minterpolate\u001b[0m\u001b[1;33m=\u001b[0m\u001b[0minterpolate\u001b[0m\u001b[1;33m,\u001b[0m \u001b[0mstep\u001b[0m\u001b[1;33m=\u001b[0m\u001b[0mstep\u001b[0m\u001b[1;33m,\u001b[0m\u001b[1;33m\u001b[0m\u001b[1;33m\u001b[0m\u001b[0m\n\u001b[1;32m-> 2623\u001b[1;33m         **({\"data\": data} if data is not None else {}), **kwargs)\n\u001b[0m\u001b[0;32m   2624\u001b[0m \u001b[1;33m\u001b[0m\u001b[0m\n\u001b[0;32m   2625\u001b[0m \u001b[1;33m\u001b[0m\u001b[0m\n",
      "\u001b[1;32mc:\\users\\tllok.n\\pycharmprojects\\gptour\\venv\\lib\\site-packages\\matplotlib\\__init__.py\u001b[0m in \u001b[0;36minner\u001b[1;34m(ax, data, *args, **kwargs)\u001b[0m\n\u001b[0;32m   1429\u001b[0m     \u001b[1;32mdef\u001b[0m \u001b[0minner\u001b[0m\u001b[1;33m(\u001b[0m\u001b[0max\u001b[0m\u001b[1;33m,\u001b[0m \u001b[1;33m*\u001b[0m\u001b[0margs\u001b[0m\u001b[1;33m,\u001b[0m \u001b[0mdata\u001b[0m\u001b[1;33m=\u001b[0m\u001b[1;32mNone\u001b[0m\u001b[1;33m,\u001b[0m \u001b[1;33m**\u001b[0m\u001b[0mkwargs\u001b[0m\u001b[1;33m)\u001b[0m\u001b[1;33m:\u001b[0m\u001b[1;33m\u001b[0m\u001b[1;33m\u001b[0m\u001b[0m\n\u001b[0;32m   1430\u001b[0m         \u001b[1;32mif\u001b[0m \u001b[0mdata\u001b[0m \u001b[1;32mis\u001b[0m \u001b[1;32mNone\u001b[0m\u001b[1;33m:\u001b[0m\u001b[1;33m\u001b[0m\u001b[1;33m\u001b[0m\u001b[0m\n\u001b[1;32m-> 1431\u001b[1;33m             \u001b[1;32mreturn\u001b[0m \u001b[0mfunc\u001b[0m\u001b[1;33m(\u001b[0m\u001b[0max\u001b[0m\u001b[1;33m,\u001b[0m \u001b[1;33m*\u001b[0m\u001b[0mmap\u001b[0m\u001b[1;33m(\u001b[0m\u001b[0msanitize_sequence\u001b[0m\u001b[1;33m,\u001b[0m \u001b[0margs\u001b[0m\u001b[1;33m)\u001b[0m\u001b[1;33m,\u001b[0m \u001b[1;33m**\u001b[0m\u001b[0mkwargs\u001b[0m\u001b[1;33m)\u001b[0m\u001b[1;33m\u001b[0m\u001b[1;33m\u001b[0m\u001b[0m\n\u001b[0m\u001b[0;32m   1432\u001b[0m \u001b[1;33m\u001b[0m\u001b[0m\n\u001b[0;32m   1433\u001b[0m         \u001b[0mbound\u001b[0m \u001b[1;33m=\u001b[0m \u001b[0mnew_sig\u001b[0m\u001b[1;33m.\u001b[0m\u001b[0mbind\u001b[0m\u001b[1;33m(\u001b[0m\u001b[0max\u001b[0m\u001b[1;33m,\u001b[0m \u001b[1;33m*\u001b[0m\u001b[0margs\u001b[0m\u001b[1;33m,\u001b[0m \u001b[1;33m**\u001b[0m\u001b[0mkwargs\u001b[0m\u001b[1;33m)\u001b[0m\u001b[1;33m\u001b[0m\u001b[1;33m\u001b[0m\u001b[0m\n",
      "\u001b[1;32mc:\\users\\tllok.n\\pycharmprojects\\gptour\\venv\\lib\\site-packages\\matplotlib\\axes\\_axes.py\u001b[0m in \u001b[0;36mfill_between\u001b[1;34m(self, x, y1, y2, where, interpolate, step, **kwargs)\u001b[0m\n\u001b[0;32m   5301\u001b[0m         return self._fill_between_x_or_y(\n\u001b[0;32m   5302\u001b[0m             \u001b[1;34m\"x\"\u001b[0m\u001b[1;33m,\u001b[0m \u001b[0mx\u001b[0m\u001b[1;33m,\u001b[0m \u001b[0my1\u001b[0m\u001b[1;33m,\u001b[0m \u001b[0my2\u001b[0m\u001b[1;33m,\u001b[0m\u001b[1;33m\u001b[0m\u001b[1;33m\u001b[0m\u001b[0m\n\u001b[1;32m-> 5303\u001b[1;33m             where=where, interpolate=interpolate, step=step, **kwargs)\n\u001b[0m\u001b[0;32m   5304\u001b[0m \u001b[1;33m\u001b[0m\u001b[0m\n\u001b[0;32m   5305\u001b[0m     fill_between.__doc__ = _fill_between_x_or_y.__doc__.format(\n",
      "\u001b[1;32mc:\\users\\tllok.n\\pycharmprojects\\gptour\\venv\\lib\\site-packages\\matplotlib\\axes\\_axes.py\u001b[0m in \u001b[0;36m_fill_between_x_or_y\u001b[1;34m(self, ind_dir, ind, dep1, dep2, where, interpolate, step, **kwargs)\u001b[0m\n\u001b[0;32m   5222\u001b[0m                     \"will become an error %(removal)s.\")\n\u001b[0;32m   5223\u001b[0m         where = where & ~functools.reduce(\n\u001b[1;32m-> 5224\u001b[1;33m             np.logical_or, map(np.ma.getmask, [ind, dep1, dep2]))\n\u001b[0m\u001b[0;32m   5225\u001b[0m \u001b[1;33m\u001b[0m\u001b[0m\n\u001b[0;32m   5226\u001b[0m         \u001b[0mind\u001b[0m\u001b[1;33m,\u001b[0m \u001b[0mdep1\u001b[0m\u001b[1;33m,\u001b[0m \u001b[0mdep2\u001b[0m \u001b[1;33m=\u001b[0m \u001b[0mnp\u001b[0m\u001b[1;33m.\u001b[0m\u001b[0mbroadcast_arrays\u001b[0m\u001b[1;33m(\u001b[0m\u001b[0mnp\u001b[0m\u001b[1;33m.\u001b[0m\u001b[0matleast_1d\u001b[0m\u001b[1;33m(\u001b[0m\u001b[0mind\u001b[0m\u001b[1;33m)\u001b[0m\u001b[1;33m,\u001b[0m \u001b[0mdep1\u001b[0m\u001b[1;33m,\u001b[0m \u001b[0mdep2\u001b[0m\u001b[1;33m)\u001b[0m\u001b[1;33m\u001b[0m\u001b[1;33m\u001b[0m\u001b[0m\n",
      "\u001b[1;31mValueError\u001b[0m: operands could not be broadcast together with shapes (9,) (729,) "
     ]
    },
    {
     "data": {
      "image/png": "[encoded data removed]",
      "text/plain": [
       "<Figure size 800x640 with 1 Axes>"
      ]
     },
     "metadata": {},
     "output_type": "display_data"
    }
   ],
   "source": [
    "\n",
    "# Check accuracy                       \n",
    "error = np.linalg.norm(y_pred - y_star,2) / np.linalg.norm(y_star,2)\n",
    "print(\"Relative L2 error u: %e\" % (error))\n",
    "\n",
    "# zipped = zip(X_star, y_star, y_pred)\n",
    "# sort_zipped=sorted(zipped,key=lambda x:(x[0],x[1],x[2]))\n",
    "# result=zip(*sort_zipped)\n",
    "# X_star, y_star, y_pred=[list(x) for x in result]\n",
    "# X_star=(np.array(X_star).reshape(-1)).tolist()\n",
    "# y_star=(np.array(y_star).reshape(-1)).tolist()\n",
    "# y_pred=(np.array(y_pred).reshape(-1)).tolist()\n",
    "\n",
    "# print(X_star, y_star, y_pred)\n",
    "index=[1,2,3,4,5,6,7,8,9]\n",
    "y_pred=np.array(y_pred)\n",
    "y_star=np.array(y_star)\n",
    "\n",
    "print(\"r2 socre:\",r2_score(y_star,y_pred))\n",
    "\n",
    "# Plot\n",
    "plt.figure(1, figsize=(10, 8), dpi=80, facecolor='w', edgecolor='k')\n",
    "# plt.rc('text', usetex=True)\n",
    "# plt.rc('font', family='serif', size=12)\n",
    "\n",
    "\n",
    "# plt.plot(X_star, y_star, 'b-', label = \"Exact\", linewidth=2)\n",
    "# plt.plot(X_star, y_pred, 'r--', label = \"Prediction\", linewidth=2)\n",
    "plt.plot(index, y_star, 'b-', label = \"Exact\", linewidth=2)\n",
    "plt.plot(index, y_pred, 'r--', label = \"Prediction\", linewidth=2)\n",
    "\n",
    "\n",
    "lower = np.array(y_pred - 2.0*np.sqrt(y_var[:,None]))\n",
    "upper = np.array(y_pred + 2.0*np.sqrt(y_var[:,None]))\n",
    "index=np.array(index)\n",
    "plt.fill_between(index.flatten(), lower.flatten(), upper.flatten(), \n",
    "                 facecolor='orange', alpha=0.3, label=\"Two std band\")\n",
    "# plt.plot(X_H,y_H,'bo', markersize = 1, label = \"High-fidelity data\")\n",
    "# plt.plot(X_L,y_L,'ms', markersize = 1, label = \"Low-fidelity data\")\n",
    "plt.legend(frameon=False,loc='upper left')\n",
    "ax = plt.gca()\n",
    "# ax.set_xlim([lb[0], ub[0]])\n",
    "plt.xlabel('$x$')\n",
    "plt.ylabel('$f(x)$')\n"
   ]
  },
  {
   "cell_type": "code",
   "execution_count": null,
   "metadata": {},
   "outputs": [],
   "source": []
  }
 ],
 "metadata": {
  "kernelspec": {
   "display_name": "Python 3",
   "language": "python",
   "name": "python3"
  },
  "language_info": {
   "codemirror_mode": {
    "name": "ipython",
    "version": 3
   },
   "file_extension": ".py",
   "mimetype": "text/x-python",
   "name": "python",
   "nbconvert_exporter": "python",
   "pygments_lexer": "ipython3",
   "version": "3.7.4"
  }
 },
 "nbformat": 4,
 "nbformat_minor": 4
}
