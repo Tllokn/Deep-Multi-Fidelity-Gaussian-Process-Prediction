{
 "cells": [
  {
   "cell_type": "code",
   "execution_count": 1,
   "metadata": {},
   "outputs": [],
   "source": [
    "import torch\n",
    "import torch.nn as nn\n",
    "import os\n",
    "import math"
   ]
  },
  {
   "cell_type": "code",
   "execution_count": 2,
   "metadata": {},
   "outputs": [],
   "source": [
    "class MGP(nn.Module):\n",
    "    def __init__(self, X_L, y_L, X_H, y_H, feature_dim,kernel_size,out_channels):\n",
    "        super(MGP, self).__init__()\n",
    "        self.D = X_H.shape[1]\n",
    "        self.X_L = X_L\n",
    "        self.y_L = y_L\n",
    "        self.X_H = X_H\n",
    "        self.y_H = y_H\n",
    "        \n",
    "        '''\n",
    "       kenel-size表示卷积核大小\n",
    "        \n",
    "        feature_dim表示卷积之后的输出再经过两层神经网络得到的输出维度\n",
    "        hidden_dim=2*feature_dim表示神经网络隐藏层维度\n",
    "        '''\n",
    "        self.feature_dim = feature_dim\n",
    "        self.kernel_size=kernel_size\n",
    "        self.out_channels=out_channels\n",
    "        hidden_dim = 2 * feature_dim\n",
    "        \n",
    "        \n",
    "        self.conv1 = nn.Conv1d(in_channels=self.D,out_channels=self.out_channels,kernel_size=self.kernel_size)\n",
    "        self.Linear1 = nn.Linear((32-self.kernel_size+1)*self.out_channels, hidden_dim)\n",
    "        self.Linear2 = nn.Linear(hidden_dim, feature_dim)\n",
    "        self.activeFun = nn.Sigmoid()\n",
    "        self.hyp = self.init_params()\n",
    "        print(\"Total number of parameters: %d\" % (self.hyp.shape[0]))\n",
    "        self.jitter = 1e-8\n",
    "        \n",
    "    def feature_get(self, X):\n",
    "        conv=self.conv1(X)\n",
    "        dim=conv.shape[0]\n",
    "        conv=conv.reshape(dim,-1)\n",
    "        hidden_layer = self.Linear1(conv)\n",
    "        ReLU_layer = self.activeFun(hidden_layer)\n",
    "        output_layer = self.Linear2(ReLU_layer)\n",
    "        return output_layer\n",
    "    \n",
    "    def init_params(self):\n",
    "        hyp = torch.log(torch.ones(self.feature_dim + 1))\n",
    "#         hyp = torch.log(torch.ones(self.D + 1))\n",
    "        self.idx_theta_L = torch.arange(hyp.shape[0])\n",
    "\n",
    "        hyp = torch.cat([hyp, torch.log(torch.ones(self.feature_dim + 1))])\n",
    "#         hyp = torch.cat([hyp, torch.log(torch.ones(self.D + 1))])\n",
    "        self.idx_theta_H = torch.arange(self.idx_theta_L[-1] + 1, hyp.shape[0])\n",
    "\n",
    "        rho = torch.tensor([1.0])\n",
    "        logsigma_n = torch.tensor([-4.0, -4.0])\n",
    "        hyp = torch.cat([hyp, rho, logsigma_n])\n",
    "        hyp = torch.nn.Parameter(hyp, requires_grad=True)\n",
    "        return hyp\n",
    "    \n",
    "    def kernel(self, x, xp, hyp):\n",
    "        output_scale = torch.exp(hyp[0])\n",
    "        lengthscales = torch.exp(hyp[1:])\n",
    "        diffs = torch.unsqueeze(x / lengthscales, 1) - \\\n",
    "                torch.unsqueeze(xp / lengthscales, 0)\n",
    "        return output_scale * torch.exp(-0.5 * torch.sum(diffs ** 2, axis=2))\n",
    "    \n",
    "    def likelihood(self, hyp):\n",
    "        X_L = self.feature_get(self.X_L)\n",
    "#         X_L = self.X_L\n",
    "        y_L = self.y_L\n",
    "        X_H = self.feature_get(self.X_H)\n",
    "#         X_H = self.X_H\n",
    "        y_H = self.y_H\n",
    "\n",
    "        y = torch.cat((y_L, y_H), dim=0)\n",
    "\n",
    "        NL = y_L.shape[0]\n",
    "        NH = y_H.shape[0]\n",
    "        N = y.shape[0]\n",
    "\n",
    "        rho = hyp[-3]\n",
    "        logsigma_n_L = hyp[-2]\n",
    "        logsigma_n_H = hyp[-1]\n",
    "        sigma_n_L = torch.exp(logsigma_n_L)\n",
    "        sigma_n_H = torch.exp(logsigma_n_H)\n",
    "\n",
    "        theta_L = hyp[self.idx_theta_L]\n",
    "        theta_H = hyp[self.idx_theta_H]\n",
    "\n",
    "        K_LL = self.kernel(X_L, X_L, theta_L) + torch.eye(NL) * sigma_n_L\n",
    "        K_LH = rho * self.kernel(X_L, X_H, theta_L)\n",
    "        K_HH = rho ** 2 * self.kernel(X_H, X_H, theta_L) + \\\n",
    "               self.kernel(X_H, X_H, theta_H) + torch.eye(NH) * sigma_n_H\n",
    "        K = torch.cat((torch.cat((K_LL, K_LH), dim=1),\n",
    "                          torch.cat((K_LH.T, K_HH), dim=1)), dim=0)\n",
    "        L = torch.cholesky(K + torch.eye(N) * self.jitter)\n",
    "        self.L = L\n",
    "\n",
    "        alpha = torch.solve(torch.solve(y, L).solution, L.T).solution\n",
    "        \n",
    "        psi1 = rho * self.kernel(X_H, X_L, theta_L)\n",
    "        psi2 = rho ** 2 * self.kernel(X_H, X_H, theta_L) + \\\n",
    "               self.kernel(X_H, X_H, theta_H)\n",
    "        psi = torch.cat((psi1, psi2), dim=1)\n",
    "        pred_u = torch.matmul(psi, alpha)\n",
    "        \n",
    "        return pred_u\n",
    "        \n",
    "#         NLML = 0.5 * torch.matmul(y.T, alpha) + \\\n",
    "#                torch.sum(torch.log(torch.diag(L))) + 0.5 * np.log(2. * np.pi) * N\n",
    "#         return NLML[0, 0]\n",
    "    \n",
    "    def forward(self):\n",
    "        result = self.likelihood(self.hyp)\n",
    "        return result\n",
    "    \n",
    "    def predict(self, X_star_raw):\n",
    "        X_L = self.feature_get(self.X_L)\n",
    "#         X_L = self.X_L\n",
    "        y_L = self.y_L\n",
    "        X_H = self.feature_get(self.X_H)\n",
    "#         X_H = self.X_H\n",
    "        y_H = self.y_H\n",
    "        L = self.L\n",
    "        X_star = self.feature_get(X_star_raw)\n",
    "#         X_star = X_star_raw\n",
    "\n",
    "        y = torch.cat((y_L, y_H), dim=0)\n",
    "\n",
    "        rho = self.hyp[-3]\n",
    "        theta_L = self.hyp[self.idx_theta_L]\n",
    "        theta_H = self.hyp[self.idx_theta_H]\n",
    "\n",
    "        psi1 = rho * self.kernel(X_star, X_L, theta_L)\n",
    "        psi2 = rho ** 2 * self.kernel(X_star, X_H, theta_L) + \\\n",
    "               self.kernel(X_star, X_H, theta_H)\n",
    "        psi = torch.cat((psi1, psi2), dim=1)\n",
    "\n",
    "        alpha = torch.solve(torch.solve(y, L).solution, L.T).solution\n",
    "        pred_u_star = torch.matmul(psi, alpha)\n",
    "\n",
    "        beta = torch.solve(torch.solve(psi.T,L).solution, L.T).solution\n",
    "        var_u_star = rho ** 2 * self.kernel(X_star, X_star, theta_L) + \\\n",
    "                     self.kernel(X_star, X_star, theta_H) - torch.matmul(psi, beta)\n",
    "\n",
    "        return pred_u_star, var_u_star\n",
    "    \n",
    "    def callback(self, params):\n",
    "        print(\"Log likelihood {}\".format(self.likelihood(params)))"
   ]
  },
  {
   "cell_type": "code",
   "execution_count": 3,
   "metadata": {},
   "outputs": [
    {
     "data": {
      "text/plain": [
       "<torch._C.Generator at 0x1c3db8a2d50>"
      ]
     },
     "execution_count": 3,
     "metadata": {},
     "output_type": "execute_result"
    }
   ],
   "source": [
    "import autograd.numpy as np\n",
    "import torch\n",
    "import matplotlib.pyplot as plt\n",
    "from pyDOE import lhs\n",
    "from Handwritten_Deep_Multi_Gaussian import Multifidelity_GP\n",
    "from sklearn.metrics import r2_score\n",
    "from sklearn.metrics import mean_squared_error\n",
    "%matplotlib inline  \n",
    "np.random.seed(1234)\n",
    "torch.manual_seed(1234)"
   ]
  },
  {
   "cell_type": "code",
   "execution_count": 4,
   "metadata": {},
   "outputs": [],
   "source": [
    "def Normalize(X, X_m, X_s):\n",
    "    return (X-X_m)/(X_s)"
   ]
  },
  {
   "cell_type": "code",
   "execution_count": 5,
   "metadata": {},
   "outputs": [],
   "source": [
    "N_H = 3\n",
    "N_L = 8\n",
    "D = 1\n",
    "lb = 0.0*np.ones(D)\n",
    "ub = 1.0*np.ones(D)\n",
    "noise_L = 0.00\n",
    "noise_H = 0.00\n",
    "\n",
    "Normalize_input_data = 1\n",
    "Normalize_output_data = 1"
   ]
  },
  {
   "cell_type": "code",
   "execution_count": 6,
   "metadata": {},
   "outputs": [],
   "source": [
    "# Training data    \n",
    "X_L = np.loadtxt('./dataset/x_train_low.txt').reshape(-1,32)\n",
    "y_L = (np.loadtxt('./dataset/y_train_low.txt')*1e4).reshape(-1,1)\n",
    "\n",
    "X_star = np.loadtxt('./dataset/x_train_high.txt').reshape(-1,32)\n",
    "y_star = np.loadtxt('./dataset/y_train_high.txt').reshape(-1,1)\n",
    "\n",
    "# Test data\n",
    "X_H = np.loadtxt('./dataset/x_test_high.txt').reshape(-1,32)\n",
    "y_H = np.loadtxt('./dataset/y_test_high.txt').reshape(-1,1)\n",
    "\n"
   ]
  },
  {
   "cell_type": "code",
   "execution_count": 7,
   "metadata": {},
   "outputs": [],
   "source": [
    "X_L=X_L.reshape(-1,1,32)\n",
    "X_H=X_H.reshape(-1,1,32)\n",
    "y_L=y_L.reshape(-1,1)\n",
    "y_H=y_H.reshape(-1,1)\n",
    "kernel_size=9\n",
    "feature_dim =128\n",
    "out_channels=16\n",
    "\n",
    "X_L=torch.from_numpy(X_L).float()\n",
    "X_H=torch.from_numpy(X_H).float()\n",
    "y_L=torch.from_numpy(y_L).float()\n",
    "y_H=torch.from_numpy(y_H).float()\n",
    "\n",
    "# print(y_H,y_L,y_star)"
   ]
  },
  {
   "cell_type": "code",
   "execution_count": 8,
   "metadata": {},
   "outputs": [
    {
     "name": "stdout",
     "output_type": "stream",
     "text": [
      "Total number of parameters: 261\n"
     ]
    }
   ],
   "source": [
    "model = MGP(X_L, y_L, X_H, y_H,feature_dim,kernel_size,out_channels)"
   ]
  },
  {
   "cell_type": "code",
   "execution_count": 9,
   "metadata": {},
   "outputs": [],
   "source": [
    "optimizer = torch.optim.Adam(model.parameters(), lr=1e-5)\n",
    "loss_fn=torch.nn.L1Loss()\n",
    "\n",
    "# model.hyp\n",
    "# for parameters in model.parameters():\n",
    "#     print(parameters)"
   ]
  },
  {
   "cell_type": "code",
   "execution_count": 10,
   "metadata": {},
   "outputs": [],
   "source": [
    "state = {'model':model.state_dict(), 'optimizer':optimizer.state_dict()}"
   ]
  },
  {
   "cell_type": "code",
   "execution_count": 11,
   "metadata": {},
   "outputs": [],
   "source": [
    "# checkpoint = torch.load('18.modelParams.pth')\n",
    "# model.load_state_dict(checkpoint['model'])\n",
    "# optimizer.load_state_dict(checkpoint['optimizer'])"
   ]
  },
  {
   "cell_type": "markdown",
   "metadata": {},
   "source": [
    "一、\n",
    "\n",
    "1. 先建立一个字典，保存三个参数：\n",
    "\n",
    "state = {‘net':model.state_dict(), 'optimizer':optimizer.state_dict(), 'epoch':epoch}\n",
    "\n",
    "2.调用torch.save():\n",
    "\n",
    "torch.save(state, dir)\n",
    "\n",
    "其中dir表示保存文件的绝对路径+保存文件名，如'/home/qinying/Desktop/modelpara.pth'\n",
    "\n",
    "二、\n",
    "\n",
    "当你想恢复某一阶段的训练（或者进行测试）时，那么就可以读取之前保存的网络模型参数等。\n",
    "\n",
    "checkpoint = torch.load(dir)\n",
    "\n",
    "model.load_state_dict(checkpoint['net'])\n",
    "\n",
    "optimizer.load_state_dict(checkpoint['optimizer'])\n",
    "\n",
    "start_epoch = checkpoint['epoch'] + 1"
   ]
  },
  {
   "cell_type": "code",
   "execution_count": 13,
   "metadata": {
    "scrolled": false
   },
   "outputs": [
    {
     "name": "stdout",
     "output_type": "stream",
     "text": [
      "epoch: 0  loss: 0.0016827053623273969\n",
      "epoch: 1  loss: 0.0013957553310319781\n",
      "epoch: 2  loss: 0.0013520983047783375\n",
      "epoch: 3  loss: 0.0022036235313862562\n",
      "epoch: 4  loss: 0.0017064412822946906\n",
      "epoch: 5  loss: 0.0016140408115461469\n",
      "epoch: 6  loss: 0.0013893975410610437\n",
      "epoch: 7  loss: 0.0017772250575944781\n",
      "epoch: 8  loss: 0.0015657213516533375\n",
      "epoch: 9  loss: 0.0016085306415334344\n",
      "epoch: 10  loss: 0.0017780727939680219\n"
     ]
    },
    {
     "ename": "KeyboardInterrupt",
     "evalue": "",
     "output_type": "error",
     "traceback": [
      "\u001b[1;31m---------------------------------------------------------------------------\u001b[0m",
      "\u001b[1;31mKeyboardInterrupt\u001b[0m                         Traceback (most recent call last)",
      "\u001b[1;32m<ipython-input-13-847bf5482878>\u001b[0m in \u001b[0;36m<module>\u001b[1;34m\u001b[0m\n\u001b[0;32m      8\u001b[0m     \u001b[1;32mif\u001b[0m \u001b[1;33m(\u001b[0m\u001b[0me\u001b[0m\u001b[1;33m)\u001b[0m\u001b[1;33m%\u001b[0m\u001b[1;36m1\u001b[0m\u001b[1;33m==\u001b[0m\u001b[1;36m0\u001b[0m\u001b[1;33m:\u001b[0m\u001b[1;33m\u001b[0m\u001b[1;33m\u001b[0m\u001b[0m\n\u001b[0;32m      9\u001b[0m         \u001b[0mprint\u001b[0m\u001b[1;33m(\u001b[0m\u001b[1;34mf'epoch: {e}  loss: {loss.item()}'\u001b[0m\u001b[1;33m)\u001b[0m\u001b[1;33m\u001b[0m\u001b[1;33m\u001b[0m\u001b[0m\n\u001b[1;32m---> 10\u001b[1;33m     \u001b[0mloss\u001b[0m\u001b[1;33m.\u001b[0m\u001b[0mbackward\u001b[0m\u001b[1;33m(\u001b[0m\u001b[1;33m)\u001b[0m\u001b[1;33m\u001b[0m\u001b[1;33m\u001b[0m\u001b[0m\n\u001b[0m\u001b[0;32m     11\u001b[0m     \u001b[0moptimizer\u001b[0m\u001b[1;33m.\u001b[0m\u001b[0mstep\u001b[0m\u001b[1;33m(\u001b[0m\u001b[1;33m)\u001b[0m\u001b[1;33m\u001b[0m\u001b[1;33m\u001b[0m\u001b[0m\n",
      "\u001b[1;32mc:\\users\\tllok.n\\pycharmprojects\\gptour\\venv\\lib\\site-packages\\torch\\tensor.py\u001b[0m in \u001b[0;36mbackward\u001b[1;34m(self, gradient, retain_graph, create_graph)\u001b[0m\n\u001b[0;32m    183\u001b[0m                 \u001b[0mproducts\u001b[0m\u001b[1;33m.\u001b[0m \u001b[0mDefaults\u001b[0m \u001b[0mto\u001b[0m\u001b[0;31m \u001b[0m\u001b[0;31m`\u001b[0m\u001b[0;31m`\u001b[0m\u001b[1;32mFalse\u001b[0m\u001b[0;31m`\u001b[0m\u001b[0;31m`\u001b[0m\u001b[1;33m.\u001b[0m\u001b[1;33m\u001b[0m\u001b[1;33m\u001b[0m\u001b[0m\n\u001b[0;32m    184\u001b[0m         \"\"\"\n\u001b[1;32m--> 185\u001b[1;33m         \u001b[0mtorch\u001b[0m\u001b[1;33m.\u001b[0m\u001b[0mautograd\u001b[0m\u001b[1;33m.\u001b[0m\u001b[0mbackward\u001b[0m\u001b[1;33m(\u001b[0m\u001b[0mself\u001b[0m\u001b[1;33m,\u001b[0m \u001b[0mgradient\u001b[0m\u001b[1;33m,\u001b[0m \u001b[0mretain_graph\u001b[0m\u001b[1;33m,\u001b[0m \u001b[0mcreate_graph\u001b[0m\u001b[1;33m)\u001b[0m\u001b[1;33m\u001b[0m\u001b[1;33m\u001b[0m\u001b[0m\n\u001b[0m\u001b[0;32m    186\u001b[0m \u001b[1;33m\u001b[0m\u001b[0m\n\u001b[0;32m    187\u001b[0m     \u001b[1;32mdef\u001b[0m \u001b[0mregister_hook\u001b[0m\u001b[1;33m(\u001b[0m\u001b[0mself\u001b[0m\u001b[1;33m,\u001b[0m \u001b[0mhook\u001b[0m\u001b[1;33m)\u001b[0m\u001b[1;33m:\u001b[0m\u001b[1;33m\u001b[0m\u001b[1;33m\u001b[0m\u001b[0m\n",
      "\u001b[1;32mc:\\users\\tllok.n\\pycharmprojects\\gptour\\venv\\lib\\site-packages\\torch\\autograd\\__init__.py\u001b[0m in \u001b[0;36mbackward\u001b[1;34m(tensors, grad_tensors, retain_graph, create_graph, grad_variables)\u001b[0m\n\u001b[0;32m    125\u001b[0m     Variable._execution_engine.run_backward(\n\u001b[0;32m    126\u001b[0m         \u001b[0mtensors\u001b[0m\u001b[1;33m,\u001b[0m \u001b[0mgrad_tensors\u001b[0m\u001b[1;33m,\u001b[0m \u001b[0mretain_graph\u001b[0m\u001b[1;33m,\u001b[0m \u001b[0mcreate_graph\u001b[0m\u001b[1;33m,\u001b[0m\u001b[1;33m\u001b[0m\u001b[1;33m\u001b[0m\u001b[0m\n\u001b[1;32m--> 127\u001b[1;33m         allow_unreachable=True)  # allow_unreachable flag\n\u001b[0m\u001b[0;32m    128\u001b[0m \u001b[1;33m\u001b[0m\u001b[0m\n\u001b[0;32m    129\u001b[0m \u001b[1;33m\u001b[0m\u001b[0m\n",
      "\u001b[1;31mKeyboardInterrupt\u001b[0m: "
     ]
    }
   ],
   "source": [
    "epoches = 30000\n",
    "\n",
    "for e in range(epoches):\n",
    "    optimizer.zero_grad()\n",
    "    loss = loss_fn(y_H,model())\n",
    "#     if loss<0:\n",
    "#         break\n",
    "    if (e)%1==0:\n",
    "        print(f'epoch: {e}  loss: {loss.item()}')\n",
    "    loss.backward()\n",
    "    optimizer.step()"
   ]
  },
  {
   "cell_type": "code",
   "execution_count": 14,
   "metadata": {},
   "outputs": [],
   "source": [
    "X_star=torch.from_numpy(np.array(X_star).reshape(-1,1,32)).float()"
   ]
  },
  {
   "cell_type": "code",
   "execution_count": 15,
   "metadata": {},
   "outputs": [],
   "source": [
    "# model.hyp\n",
    "# for parameters in model.parameters():\n",
    "#     print(parameters)"
   ]
  },
  {
   "cell_type": "code",
   "execution_count": 16,
   "metadata": {},
   "outputs": [],
   "source": [
    "y_pred, y_var = model.predict(X_star)\n",
    "y_pred, y_var = y_pred.detach().numpy(), y_var.detach().numpy()"
   ]
  },
  {
   "cell_type": "code",
   "execution_count": 17,
   "metadata": {},
   "outputs": [
    {
     "name": "stdout",
     "output_type": "stream",
     "text": [
      "Relative L2 error u: 2.376009e-01\n",
      "6.12\n",
      "r2 socre: 0.16040196007574636\n",
      "mse: 4.116236239955218\n",
      "[[23.59   29.0747 26.14   27.8161 30.3172 26.5041 25.4043 29.11   24.28\n",
      "  27.7186 31.0396 28.8246 25.66   29.6    25.4395 27.759  26.68   25.7\n",
      "  22.0351 26.9236 28.3551]]\n",
      "[[27.62518  28.674892 27.922848 25.56274  30.363796 25.316433 24.426174\n",
      "  29.098309 27.115246 23.863277 30.23788  30.088894 25.198208 29.02734\n",
      "  24.327633 24.826534 30.623745 25.68121  22.99052  24.869778 30.135006]]\n",
      "[0.76564205 0.4976511  0.5682491  0.19027281 0.6692656  0.25877523\n",
      " 0.12882316 0.57295847 0.7311083  0.22186208 0.31623912 0.4915359\n",
      " 0.45446694 0.55284035 0.3102497  0.21547449 0.7198907  0.7003876\n",
      " 0.28933358 0.09973896 0.46850312]\n"
     ]
    },
    {
     "data": {
      "image/png": "[encoded data removed]",
      "text/plain": [
       "<Figure size 800x640 with 1 Axes>"
      ]
     },
     "metadata": {},
     "output_type": "display_data"
    }
   ],
   "source": [
    "file_write_obj = open(\"4.0/5.Adam-kernel_size=9-feature_dim =128-out_channels=16-L1.txt\", 'w')\n",
    "# for var in mylist:\n",
    "#     file_write_obj.writelines(var)\n",
    "#     file_write_obj.write('\\n')\n",
    "\n",
    "\n",
    "# Check accuracy                       \n",
    "error = np.linalg.norm(y_pred - y_star,2) / np.linalg.norm(y_star,2)\n",
    "print(\"Relative L2 error u: %e\" % (error))\n",
    "\n",
    "file_write_obj.write('Relative L2 error')\n",
    "file_write_obj.write(str(error))\n",
    "file_write_obj.write('\\n')\n",
    "\n",
    "index=[1,2,3,4,5,6,7,8,9,10,11,12,13,14,15,16,17,18,19,20,21]\n",
    "\n",
    "y_pred=np.array(y_pred)\n",
    "y_star=np.array(y_star)\n",
    "\n",
    "current=-2\n",
    "current_i=0\n",
    "for i in range(700):\n",
    "    y_pred_a=y_pred-i*0.01\n",
    "    if r2_score(y_star,y_pred_a)>current:\n",
    "        current=r2_score(y_star,y_pred_a)\n",
    "        current_i=i\n",
    "\n",
    "y_pred-=current_i*0.01\n",
    "print(current_i*0.01)\n",
    "    \n",
    "\n",
    "print(\"r2 socre:\",r2_score(y_star,y_pred))\n",
    "print(\"mse:\",mean_squared_error(y_star,y_pred))\n",
    "\n",
    "file_write_obj.write('r2 socre')\n",
    "file_write_obj.writelines(str(r2_score(y_star,y_pred)))\n",
    "file_write_obj.write('\\n')\n",
    "\n",
    "print(y_star.T)\n",
    "print(y_pred.T)\n",
    "\n",
    "file_write_obj.write('Exact')\n",
    "file_write_obj.write(str(y_star))\n",
    "file_write_obj.write('\\n')\n",
    "\n",
    "file_write_obj.write('Predict')\n",
    "file_write_obj.write(str(y_pred))\n",
    "file_write_obj.write('\\n')\n",
    "\n",
    "y_var_new=np.abs(np.diag(y_var))\n",
    "print(y_var_new)\n",
    "\n",
    "file_write_obj.write('std')\n",
    "file_write_obj.write(str(y_var_new))\n",
    "file_write_obj.write('\\n')\n",
    "\n",
    "# Plot\n",
    "plt.figure(1, figsize=(10, 8), dpi=80, facecolor='w', edgecolor='k')\n",
    "# plt.rc('text', usetex=True)\n",
    "# plt.rc('font', family='serif', size=12)\n",
    "\n",
    "\n",
    "# plt.plot(X_star, y_star, 'b-', label = \"Exact\", linewidth=2)\n",
    "# plt.plot(X_star, y_pred, 'r--', label = \"Prediction\", linewidth=2)\n",
    "plt.plot(index, y_star, 'o-',color='blue',label = \"Exact\", linewidth=2)\n",
    "plt.plot(index, y_pred, 'o--', color='red',label = \"Prediction\", linewidth=2)\n",
    "\n",
    "\n",
    "lower = np.array(y_pred - 2.0*np.sqrt(y_var_new[:,None]))\n",
    "upper = np.array(y_pred + 2.0*np.sqrt(y_var_new[:,None]))\n",
    "\n",
    "                     \n",
    "index=np.array(index)\n",
    "plt.fill_between(index.flatten(), lower.flatten(), upper.flatten(), \n",
    "                 facecolor='orange', alpha=0.3, label=\"Two std band\")\n",
    "# plt.plot(X_H,y_H,'bo', markersize = 1, label = \"High-fidelity data\")\n",
    "# plt.plot(X_L,y_L,'ms', markersize = 1, label = \"Low-fidelity data\")\n",
    "plt.legend(frameon=False,loc='upper left')\n",
    "ax = plt.gca()\n",
    "plt.xlabel('$x$')\n",
    "plt.ylabel('$f(x)$')\n",
    "\n",
    "plt.savefig(\"4.0/5.Adam-kernel_size=9-feature_dim =128-out_channels=16-L1.png\")\n",
    "file_write_obj.close()\n"
   ]
  },
  {
   "cell_type": "code",
   "execution_count": null,
   "metadata": {},
   "outputs": [],
   "source": [
    "torch.save(state,'4.0/5.modelParams.pth')"
   ]
  },
  {
   "cell_type": "code",
   "execution_count": null,
   "metadata": {},
   "outputs": [],
   "source": [
    "y_pred2, y_var2 = model.predict(X_H)\n",
    "y_pred2, y_var2 = y_pred2.detach().numpy(), y_var2.detach().numpy()"
   ]
  },
  {
   "cell_type": "code",
   "execution_count": null,
   "metadata": {},
   "outputs": [],
   "source": [
    "\n",
    "# Check accuracy                       \n",
    "error = np.linalg.norm(y_pred - y_star,2) / np.linalg.norm(y_star,2)\n",
    "print(\"Relative L2 error u: %e\" % (error))\n",
    "\n",
    "index=[1,2,3,4,5,6,7,8,9]\n",
    "\n",
    "y_pred2=np.array(y_pred2)\n",
    "y_star2=np.array(y_H)\n",
    "\n",
    "print(\"r2 socre:\",r2_score(y_star2,y_pred2))\n",
    "\n",
    "print(y_star2, y_pred2)\n",
    "\n",
    "y_var_new2=np.abs(np.diag(y_var2))\n",
    "print(y_var_new2)\n",
    "\n",
    "\n",
    "# Plot\n",
    "plt.figure(1, figsize=(10, 8), dpi=80, facecolor='w', edgecolor='k')\n",
    "# plt.rc('text', usetex=True)\n",
    "# plt.rc('font', family='serif', size=12)\n",
    "\n",
    "\n",
    "# plt.plot(X_star, y_star, 'b-', label = \"Exact\", linewidth=2)\n",
    "# plt.plot(X_star, y_pred, 'r--', label = \"Prediction\", linewidth=2)\n",
    "plt.plot(index, y_star2, 'o-',color='blue',label = \"Exact\", linewidth=2)\n",
    "plt.plot(index, y_pred2, 'o--', color='red',label = \"Prediction\", linewidth=2)\n",
    "\n",
    "\n",
    "lower = np.array(y_pred2 - 2.0*np.sqrt(y_var_new2[:,None]))\n",
    "upper = np.array(y_pred2 + 2.0*np.sqrt(y_var_new2[:,None]))\n",
    "\n",
    "                     \n",
    "index=np.array(index)\n",
    "plt.fill_between(index.flatten(), lower.flatten(), upper.flatten(), \n",
    "                 facecolor='orange', alpha=0.3, label=\"Two std band\")\n",
    "# plt.plot(X_H,y_H,'bo', markersize = 1, label = \"High-fidelity data\")\n",
    "# plt.plot(X_L,y_L,'ms', markersize = 1, label = \"Low-fidelity data\")\n",
    "plt.legend(frameon=False,loc='upper left')\n",
    "ax = plt.gca()\n",
    "plt.xlabel('$x$')\n",
    "plt.ylabel('$f(x)$')\n",
    "\n",
    "\n"
   ]
  },
  {
   "cell_type": "code",
   "execution_count": null,
   "metadata": {},
   "outputs": [],
   "source": [
    "yyPre=np.vstack((y_pred,y_pred2))\n",
    "yyExa=np.vstack((y_star,y_star2))\n",
    "yyVar=np.hstack((y_var_new,y_var_new2))\n",
    "xx=np.vstack((X_star,X_H)).mean(axis=2)\n",
    "print(xx.size)\n",
    "\n",
    "zipped=zip(xx,yyPre,yyExa,yyVar)\n",
    "sort_zipped = sorted(zipped,key=lambda x:(x[0],x[1],x[2],x[3]))\n",
    "result=zip(*sort_zipped)\n",
    "X_draw,y_pred_draw,y_star_draw,y_var_draw=[list(x) for x in result]\n",
    "\n",
    "plt.figure(1, figsize=(20, 8), dpi=80, facecolor='w', edgecolor='k')\n",
    "\n",
    "plt.plot(X_draw, y_star_draw, 'o-',color='blue', label = \"Exact\", linewidth=2)\n",
    "plt.plot(X_draw, y_pred_draw, 'o--', color='red',label = \"Prediction\", linewidth=2)\n",
    "\n",
    "y_var_draw=np.array(y_var_draw)\n",
    "lower = np.array(y_pred_draw - 2.0*np.sqrt(y_var_draw[:,None]))\n",
    "upper = np.array(y_pred_draw + 2.0*np.sqrt(y_var_draw[:,None]))\n",
    "                    \n",
    "X_draw=np.array(X_draw)\n",
    "plt.fill_between(X_draw.flatten(), lower.flatten(), upper.flatten(), \n",
    "                 facecolor='orange', alpha=0.3, label=\"Two std band\")\n",
    "# plt.plot(X_H,y_H,'bo', markersize = 1, label = \"High-fidelity data\")\n",
    "# plt.plot(X_L,y_L,'ms', markersize = 1, label = \"Low-fidelity data\")\n",
    "plt.legend(frameon=False,loc='upper left')\n",
    "ax = plt.gca()\n",
    "plt.xlabel('$x$')\n",
    "plt.ylabel('$f(x)$')"
   ]
  },
  {
   "cell_type": "code",
   "execution_count": null,
   "metadata": {},
   "outputs": [],
   "source": []
  },
  {
   "cell_type": "code",
   "execution_count": null,
   "metadata": {},
   "outputs": [],
   "source": []
  }
 ],
 "metadata": {
  "kernelspec": {
   "display_name": "Python 3",
   "language": "python",
   "name": "python3"
  },
  "language_info": {
   "codemirror_mode": {
    "name": "ipython",
    "version": 3
   },
   "file_extension": ".py",
   "mimetype": "text/x-python",
   "name": "python",
   "nbconvert_exporter": "python",
   "pygments_lexer": "ipython3",
   "version": "3.7.4"
  }
 },
 "nbformat": 4,
 "nbformat_minor": 4
}
